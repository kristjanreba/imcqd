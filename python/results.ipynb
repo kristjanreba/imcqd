{
 "cells": [
  {
   "cell_type": "code",
   "execution_count": 1,
   "metadata": {},
   "outputs": [],
   "source": [
    "import numpy as np\n",
    "import matplotlib.pyplot as plt"
   ]
  },
  {
   "cell_type": "code",
   "execution_count": 3,
   "metadata": {},
   "outputs": [],
   "source": [
    "from analysis import *\n",
    "from util import *"
   ]
  },
  {
   "cell_type": "code",
   "execution_count": 24,
   "metadata": {},
   "outputs": [
    {
     "name": "stdout",
     "output_type": "stream",
     "text": [
      "Comparing test results for gnn on protein graphs:\n",
      "Number of uncompleted: 0\n",
      "Time difference: 10.2949\n",
      "Steps difference: 9521\n",
      "Time ratio: 1.1600\n",
      "Steps ratio: 1.1294\n",
      "Avg time ratio: 0.9928\n",
      "Avg steps ratio: 1.0586\n",
      "\n",
      "Comparing test results for gin on protein graphs:\n",
      "Number of uncompleted: 0\n",
      "Time difference: -26.2794\n",
      "Steps difference: 29656\n",
      "Time ratio: 0.7396\n",
      "Steps ratio: 1.5546\n",
      "Avg time ratio: 0.8497\n",
      "Avg steps ratio: 1.7543\n",
      "\n"
     ]
    }
   ],
   "source": [
    "compare_test_results(\"protein\", \"gnn\")\n",
    "compare_test_results(\"protein\", \"gin\")"
   ]
  },
  {
   "cell_type": "code",
   "execution_count": null,
   "metadata": {},
   "outputs": [],
   "source": []
  },
  {
   "cell_type": "code",
   "execution_count": null,
   "metadata": {},
   "outputs": [],
   "source": []
  },
  {
   "cell_type": "code",
   "execution_count": null,
   "metadata": {},
   "outputs": [],
   "source": []
  },
  {
   "cell_type": "code",
   "execution_count": null,
   "metadata": {},
   "outputs": [],
   "source": []
  },
  {
   "cell_type": "code",
   "execution_count": null,
   "metadata": {},
   "outputs": [],
   "source": []
  },
  {
   "cell_type": "code",
   "execution_count": 14,
   "metadata": {},
   "outputs": [],
   "source": [
    "def print_results(dataset, model_name):\n",
    "    s1, t1 = load_results('../data/results/{}_{}.csv'.format(dataset, 'default'))\n",
    "    s2, t2 = load_results('../data/results/{}_{}.csv'.format(dataset, model_name))\n",
    "    for i in range(len(t1)):\n",
    "        print('{:.4f} {:.4f} {:.2f}'.format(t1[i], t2[i], t1[i]/t2[i]))"
   ]
  },
  {
   "cell_type": "code",
   "execution_count": 26,
   "metadata": {
    "scrolled": true
   },
   "outputs": [
    {
     "name": "stdout",
     "output_type": "stream",
     "text": [
      "0.5585 1.3299 0.42\n",
      "2.1114 4.7001 0.45\n",
      "6.9105 14.6034 0.47\n",
      "11.8294 24.7428 0.48\n",
      "0.1002 0.0973 1.03\n",
      "4.9166 2.0058 2.45\n",
      "4.7789 10.7881 0.44\n",
      "43.4003 42.6114 1.02\n",
      "0.0234 0.0295 0.79\n",
      "0.0021 0.0022 0.94\n"
     ]
    }
   ],
   "source": [
    "print_results('protein', 'gin')"
   ]
  },
  {
   "cell_type": "code",
   "execution_count": 19,
   "metadata": {},
   "outputs": [
    {
     "name": "stdout",
     "output_type": "stream",
     "text": [
      "21.7399 17.2213 1.26\n",
      "0.0020 0.0019 1.07\n",
      "0.0076 0.0067 1.15\n",
      "-1.0000 -1.0000 1.00\n",
      "0.0303 0.0315 0.96\n",
      "0.0071 0.0074 0.96\n",
      "-1.0000 -1.0000 1.00\n",
      "7.1054 10.6430 0.67\n",
      "369.0580 24.9671 14.78\n",
      "132.6110 197.7660 0.67\n",
      "0.6103 0.5548 1.10\n",
      "0.8856 0.8026 1.10\n",
      "1.0705 0.9422 1.14\n",
      "39.4303 58.9276 0.67\n",
      "1.2592 1.1775 1.07\n",
      "42.4721 43.1863 0.98\n",
      "406.0030 810.8290 0.50\n",
      "5.9708 5.4949 1.09\n",
      "-1.0000 -1.0000 1.00\n",
      "-1.0000 -1.0000 1.00\n"
     ]
    }
   ],
   "source": [
    "print_results('dense', 'gnn')"
   ]
  },
  {
   "cell_type": "code",
   "execution_count": 18,
   "metadata": {},
   "outputs": [
    {
     "name": "stdout",
     "output_type": "stream",
     "text": [
      "0.0084 0.0084 1.00\n",
      "0.0221 0.0226 0.98\n",
      "0.0382 0.0394 0.97\n",
      "0.0653 0.0647 1.01\n",
      "0.0394 0.0370 1.06\n",
      "0.0146 0.0150 0.97\n",
      "0.0569 0.0593 0.96\n",
      "0.1955 0.2290 0.85\n",
      "1.4205 1.4191 1.00\n",
      "3.8113 4.0481 0.94\n",
      "1.4391 1.8072 0.80\n",
      "0.0241 0.0242 1.00\n",
      "0.0705 0.0632 1.12\n",
      "0.3160 0.3071 1.03\n",
      "2.1166 2.1894 0.97\n",
      "26.0961 25.2732 1.03\n",
      "394.2890 402.4990 0.98\n",
      "270.9650 273.6820 0.99\n",
      "0.1240 0.1138 1.09\n",
      "0.4518 0.4417 1.02\n",
      "3.6548 3.5816 1.02\n",
      "45.2169 44.7766 1.01\n",
      "0.2492 0.2375 1.05\n",
      "1.2270 1.1867 1.03\n",
      "11.6632 11.8352 0.99\n",
      "127.5850 121.9450 1.05\n",
      "0.7294 0.6295 1.16\n",
      "3.8440 3.4308 1.12\n",
      "63.2334 62.8210 1.01\n",
      "931.9580 919.0760 1.01\n"
     ]
    }
   ],
   "source": [
    "print_results('rand', 'gnn')"
   ]
  },
  {
   "cell_type": "code",
   "execution_count": 21,
   "metadata": {},
   "outputs": [
    {
     "name": "stdout",
     "output_type": "stream",
     "text": [
      "15.2364 13.9068 1.10\n",
      "-1.0000 -1.0000 1.00\n",
      "-1.0000 -1.0000 1.00\n",
      "0.0008 0.0008 0.93\n",
      "3.6258 3.7380 0.97\n",
      "0.0492 0.0454 1.08\n",
      "0.1737 0.1939 0.90\n",
      "0.5481 0.7008 0.78\n",
      "-1.0000 -1.0000 1.00\n",
      "-1.0000 -1.0000 1.00\n",
      "-1.0000 -1.0000 1.00\n",
      "-1.0000 -1.0000 1.00\n",
      "-1.0000 -1.0000 1.00\n",
      "-1.0000 -1.0000 1.00\n",
      "-1.0000 -1.0000 1.00\n",
      "-1.0000 -1.0000 1.00\n",
      "0.0019 0.0018 1.04\n",
      "0.0025 0.0025 1.02\n",
      "0.0090 0.0071 1.27\n",
      "0.0119 0.0084 1.40\n",
      "0.0700 0.0668 1.05\n",
      "0.0118 0.0105 1.12\n",
      "0.0238 0.0231 1.03\n",
      "-1.0000 -1.0000 1.00\n",
      "-1.0000 -1.0000 1.00\n",
      "0.0009 0.0009 1.00\n",
      "0.0006 0.0006 1.04\n",
      "0.1109 0.0608 1.82\n",
      "0.3358 0.3554 0.94\n",
      "2.7715 2.2218 1.25\n",
      "-1.0000 -1.0000 1.00\n",
      "0.0002 0.0002 0.93\n",
      "0.0033 0.0029 1.12\n",
      "0.1115 0.0993 1.12\n",
      "-1.0000 -1.0000 1.00\n",
      "-1.0000 -1.0000 1.00\n",
      "2.0477 2.1230 0.96\n",
      "-1.0000 -1.0000 1.00\n",
      "-1.0000 -1.0000 1.00\n",
      "16.0220 15.1217 1.06\n",
      "-1.0000 -1.0000 1.00\n",
      "-1.0000 -1.0000 1.00\n",
      "0.0175 0.0165 1.06\n",
      "0.1382 0.1348 1.02\n",
      "18.8180 19.9519 0.94\n",
      "0.1005 0.1051 0.96\n",
      "5.5526 5.9127 0.94\n",
      "-1.0000 -1.0000 1.00\n",
      "0.4312 0.4377 0.99\n",
      "47.5145 41.6581 1.14\n",
      "-1.0000 -1.0000 1.00\n",
      "3.2725 3.0352 1.08\n",
      "0.0317 0.0279 1.14\n",
      "0.0457 0.0377 1.21\n",
      "0.3014 0.2907 1.04\n",
      "2.6316 2.5512 1.03\n",
      "12.3032 12.0252 1.02\n",
      "0.0718 0.0619 1.16\n",
      "1.5876 1.4837 1.07\n",
      "0.5376 0.5389 1.00\n",
      "10.2282 9.4248 1.09\n",
      "-1.0000 -1.0000 1.00\n",
      "1.4675 1.4182 1.03\n",
      "-1.0000 -1.0000 1.00\n",
      "2.6067 2.6064 1.00\n",
      "-1.0000 -1.0000 1.00\n"
     ]
    }
   ],
   "source": [
    "print_results('dimacs', 'gnn')"
   ]
  },
  {
   "cell_type": "code",
   "execution_count": null,
   "metadata": {},
   "outputs": [],
   "source": []
  }
 ],
 "metadata": {
  "kernelspec": {
   "display_name": "Python [conda env:ml]",
   "language": "python",
   "name": "conda-env-ml-py"
  },
  "language_info": {
   "codemirror_mode": {
    "name": "ipython",
    "version": 3
   },
   "file_extension": ".py",
   "mimetype": "text/x-python",
   "name": "python",
   "nbconvert_exporter": "python",
   "pygments_lexer": "ipython3",
   "version": "3.7.6"
  }
 },
 "nbformat": 4,
 "nbformat_minor": 4
}
